{
  "nbformat": 4,
  "nbformat_minor": 0,
  "metadata": {
    "colab": {
      "name": "Learning PyTorch",
      "provenance": [],
      "authorship_tag": "ABX9TyOUJN7DFYmjim2ViBoc91V6",
      "include_colab_link": true
    },
    "kernelspec": {
      "name": "python3",
      "display_name": "Python 3"
    }
  },
  "cells": [
    {
      "cell_type": "markdown",
      "metadata": {
        "id": "view-in-github",
        "colab_type": "text"
      },
      "source": [
        "<a href=\"https://colab.research.google.com/github/nirmalya8/PyTorchBasics/blob/main/Learning_PyTorch.ipynb\" target=\"_parent\"><img src=\"https://colab.research.google.com/assets/colab-badge.svg\" alt=\"Open In Colab\"/></a>"
      ]
    },
    {
      "cell_type": "code",
      "metadata": {
        "id": "iHkdqxzRysww"
      },
      "source": [
        "import torch"
      ],
      "execution_count": 14,
      "outputs": []
    },
    {
      "cell_type": "markdown",
      "metadata": {
        "id": "oyu4D98R0fZ2"
      },
      "source": [
        "# Tensor"
      ]
    },
    {
      "cell_type": "markdown",
      "metadata": {
        "id": "b4WYM1lB5kui"
      },
      "source": [
        "A tensor is simply a mathematical object that can be used to describe physical properties, just like scalars and vectors. All operations in PyTorch are done using tensors and they can be considered to be the building blocks."
      ]
    },
    {
      "cell_type": "code",
      "metadata": {
        "colab": {
          "base_uri": "https://localhost:8080/"
        },
        "id": "1wxFJduV0Quq",
        "outputId": "19a34a3b-5aa1-44b6-c366-ddd73f79d283"
      },
      "source": [
        "#Using a number\r\n",
        "t = torch.tensor(4.)\r\n",
        "t , t.dtype,t.shape"
      ],
      "execution_count": 15,
      "outputs": [
        {
          "output_type": "execute_result",
          "data": {
            "text/plain": [
              "(tensor(4.), torch.float32, torch.Size([]))"
            ]
          },
          "metadata": {
            "tags": []
          },
          "execution_count": 15
        }
      ]
    },
    {
      "cell_type": "code",
      "metadata": {
        "colab": {
          "base_uri": "https://localhost:8080/"
        },
        "id": "OCco4-qL0sex",
        "outputId": "b02e6d30-d120-4863-9b6c-c2eefb2c0f61"
      },
      "source": [
        "#Using a list\r\n",
        "t1 = torch.tensor([4.,5,6,7,8])\r\n",
        "t1,t1.dtype,t1.shape"
      ],
      "execution_count": 16,
      "outputs": [
        {
          "output_type": "execute_result",
          "data": {
            "text/plain": [
              "(tensor([4., 5., 6., 7., 8.]), torch.float32, torch.Size([5]))"
            ]
          },
          "metadata": {
            "tags": []
          },
          "execution_count": 16
        }
      ]
    },
    {
      "cell_type": "markdown",
      "metadata": {
        "id": "v4uyYkx_0-Tf"
      },
      "source": [
        "Important Observation: All the data in a tensor must be of the same type and if it is not, they are automatically converted to the same data type."
      ]
    },
    {
      "cell_type": "code",
      "metadata": {
        "colab": {
          "base_uri": "https://localhost:8080/"
        },
        "id": "1pgEYhu905VA",
        "outputId": "75479dac-8fa9-432f-9c05-87dd4c2ca8cb"
      },
      "source": [
        "#Using a matrix of numbers\r\n",
        "t2 = torch.tensor([[1,2,3.],[4.,5,6],[7,8.,9]])\r\n",
        "t2,t2.dtype,t2.shape "
      ],
      "execution_count": 17,
      "outputs": [
        {
          "output_type": "execute_result",
          "data": {
            "text/plain": [
              "(tensor([[1., 2., 3.],\n",
              "         [4., 5., 6.],\n",
              "         [7., 8., 9.]]), torch.float32, torch.Size([3, 3]))"
            ]
          },
          "metadata": {
            "tags": []
          },
          "execution_count": 17
        }
      ]
    },
    {
      "cell_type": "code",
      "metadata": {
        "colab": {
          "base_uri": "https://localhost:8080/"
        },
        "id": "WIqBG_hN1lSo",
        "outputId": "21c1406b-0e9b-497a-e0bc-8537f5d89a65"
      },
      "source": [
        "#Using a 3-D Array\r\n",
        "t3 = torch.tensor([[[1, 2, 3], \r\n",
        "     [4, 5, 6]], \r\n",
        "    [[7, 8, 9], \r\n",
        "     [10, 11, 12.]]])\r\n",
        "t3,t3.dtype,t3.shape"
      ],
      "execution_count": 18,
      "outputs": [
        {
          "output_type": "execute_result",
          "data": {
            "text/plain": [
              "(tensor([[[ 1.,  2.,  3.],\n",
              "          [ 4.,  5.,  6.]],\n",
              " \n",
              "         [[ 7.,  8.,  9.],\n",
              "          [10., 11., 12.]]]), torch.float32, torch.Size([2, 2, 3]))"
            ]
          },
          "metadata": {
            "tags": []
          },
          "execution_count": 18
        }
      ]
    },
    {
      "cell_type": "markdown",
      "metadata": {
        "id": "8YLTuWw_3Kt8"
      },
      "source": [
        "We have to note that we can't create a tensor with irregular size. The shape of the tensor has to be uniform throughout. Let's study a simple example of this case here:"
      ]
    },
    {
      "cell_type": "code",
      "metadata": {
        "colab": {
          "base_uri": "https://localhost:8080/",
          "height": 193
        },
        "id": "wb0CCvn221SL",
        "outputId": "c6a0d275-2d31-494d-daf5-6d2090fe4c44"
      },
      "source": [
        "t4 = torch.tensor([[4.,5],[6,7.],[8,9,10.]])\r\n",
        "t4,t4.dtype,t4.shape"
      ],
      "execution_count": 19,
      "outputs": [
        {
          "output_type": "error",
          "ename": "ValueError",
          "evalue": "ignored",
          "traceback": [
            "\u001b[0;31m---------------------------------------------------------------------------\u001b[0m",
            "\u001b[0;31mValueError\u001b[0m                                Traceback (most recent call last)",
            "\u001b[0;32m<ipython-input-19-87a9b7d4a61d>\u001b[0m in \u001b[0;36m<module>\u001b[0;34m()\u001b[0m\n\u001b[0;32m----> 1\u001b[0;31m \u001b[0mt4\u001b[0m \u001b[0;34m=\u001b[0m \u001b[0mtorch\u001b[0m\u001b[0;34m.\u001b[0m\u001b[0mtensor\u001b[0m\u001b[0;34m(\u001b[0m\u001b[0;34m[\u001b[0m\u001b[0;34m[\u001b[0m\u001b[0;36m4.\u001b[0m\u001b[0;34m,\u001b[0m\u001b[0;36m5\u001b[0m\u001b[0;34m]\u001b[0m\u001b[0;34m,\u001b[0m\u001b[0;34m[\u001b[0m\u001b[0;36m6\u001b[0m\u001b[0;34m,\u001b[0m\u001b[0;36m7.\u001b[0m\u001b[0;34m]\u001b[0m\u001b[0;34m,\u001b[0m\u001b[0;34m[\u001b[0m\u001b[0;36m8\u001b[0m\u001b[0;34m,\u001b[0m\u001b[0;36m9\u001b[0m\u001b[0;34m,\u001b[0m\u001b[0;36m10.\u001b[0m\u001b[0;34m]\u001b[0m\u001b[0;34m]\u001b[0m\u001b[0;34m)\u001b[0m\u001b[0;34m\u001b[0m\u001b[0;34m\u001b[0m\u001b[0m\n\u001b[0m\u001b[1;32m      2\u001b[0m \u001b[0mt4\u001b[0m\u001b[0;34m,\u001b[0m\u001b[0mt4\u001b[0m\u001b[0;34m.\u001b[0m\u001b[0mdtype\u001b[0m\u001b[0;34m,\u001b[0m\u001b[0mt4\u001b[0m\u001b[0;34m.\u001b[0m\u001b[0mshape\u001b[0m\u001b[0;34m\u001b[0m\u001b[0;34m\u001b[0m\u001b[0m\n",
            "\u001b[0;31mValueError\u001b[0m: expected sequence of length 2 at dim 1 (got 3)"
          ]
        }
      ]
    },
    {
      "cell_type": "markdown",
      "metadata": {
        "id": "EjsZmXEX3n-p"
      },
      "source": [
        "As expected, an error was shown. "
      ]
    },
    {
      "cell_type": "markdown",
      "metadata": {
        "id": "D1RrChLSEZ8R"
      },
      "source": [
        "Tensor Manipulation"
      ]
    },
    {
      "cell_type": "code",
      "metadata": {
        "colab": {
          "base_uri": "https://localhost:8080/"
        },
        "id": "ZkO0ObfmEPI9",
        "outputId": "a63ed488-4866-4d08-9b65-dff0e00ac768"
      },
      "source": [
        "#Fill the whole tensor of a certain shape with one number\r\n",
        "t5 = torch.full((3,3),8)\r\n",
        "t5"
      ],
      "execution_count": 21,
      "outputs": [
        {
          "output_type": "execute_result",
          "data": {
            "text/plain": [
              "tensor([[8, 8, 8],\n",
              "        [8, 8, 8],\n",
              "        [8, 8, 8]])"
            ]
          },
          "metadata": {
            "tags": []
          },
          "execution_count": 21
        }
      ]
    },
    {
      "cell_type": "code",
      "metadata": {
        "colab": {
          "base_uri": "https://localhost:8080/"
        },
        "id": "IG2LD3G5EmOY",
        "outputId": "eee20f72-2700-4fda-df9d-ebf4ecc0f789"
      },
      "source": [
        "#Concatenating two tensors\r\n",
        "t6 = torch.cat((t2,t5))\r\n",
        "t6,t6.shape"
      ],
      "execution_count": 23,
      "outputs": [
        {
          "output_type": "execute_result",
          "data": {
            "text/plain": [
              "(tensor([[1., 2., 3.],\n",
              "         [4., 5., 6.],\n",
              "         [7., 8., 9.],\n",
              "         [8., 8., 8.],\n",
              "         [8., 8., 8.],\n",
              "         [8., 8., 8.]]), torch.Size([6, 3]))"
            ]
          },
          "metadata": {
            "tags": []
          },
          "execution_count": 23
        }
      ]
    },
    {
      "cell_type": "code",
      "metadata": {
        "colab": {
          "base_uri": "https://localhost:8080/"
        },
        "id": "ClR1HvdZE98X",
        "outputId": "8ab88a0e-5ac0-486f-a904-795412c60197"
      },
      "source": [
        "#Using the reshape function\r\n",
        "t7 = t3.reshape(3,2,2)\r\n",
        "t7"
      ],
      "execution_count": 24,
      "outputs": [
        {
          "output_type": "execute_result",
          "data": {
            "text/plain": [
              "tensor([[[ 1.,  2.],\n",
              "         [ 3.,  4.]],\n",
              "\n",
              "        [[ 5.,  6.],\n",
              "         [ 7.,  8.]],\n",
              "\n",
              "        [[ 9., 10.],\n",
              "         [11., 12.]]])"
            ]
          },
          "metadata": {
            "tags": []
          },
          "execution_count": 24
        }
      ]
    },
    {
      "cell_type": "markdown",
      "metadata": {
        "id": "cuyYxraqFfF7"
      },
      "source": [
        "Similarly, element wise operations can also be performed like `torch.sin(tensor)` etc"
      ]
    },
    {
      "cell_type": "markdown",
      "metadata": {
        "id": "AsEUVNyi57RF"
      },
      "source": [
        "# Gradients From Tensors"
      ]
    },
    {
      "cell_type": "markdown",
      "metadata": {
        "id": "guyXheYZ6DWy"
      },
      "source": [
        "One of the main advantages of PyTorch is that we can compute the gradients automatically using a parameter of torch.tensor() called `requires_grads`. The tensors whose `requires_grads` is set to true can have their gradients computed by using `our_function.backward()` and then the value of `tensor.grad` will give the derivative of the function with respect to the tensor.\r\n",
        "\r\n",
        "\r\n",
        "---\r\n",
        "\r\n",
        "So, the step by step process will be: \r\n",
        "1. Create the required tensors\r\n",
        "2. Define the custom function from which the derivatives are to be computed.\r\n",
        "3. Compute the derivatives using `backward()`\r\n",
        "4. Finally, get the required derivativatives from the value of `tensor.grad`\r\n",
        "\r\n",
        "\r\n"
      ]
    },
    {
      "cell_type": "markdown",
      "metadata": {
        "id": "StctO1sN8Hep"
      },
      "source": [
        "\r\n",
        "\r\n",
        "---\r\n",
        "\r\n",
        "Say, we want to define a function `y = w*x + b`. In this function, we will need a tensor for x,w and b which after computation will output a tensor y. Now, we would want to compute the derivatives with respect to w and b as, in Machine Learning, the weights and the biases are updated till an optimum is reached.So, the `requires_grads` parameter for w and b will be set to true. "
      ]
    },
    {
      "cell_type": "code",
      "metadata": {
        "colab": {
          "base_uri": "https://localhost:8080/"
        },
        "id": "cjBPccWg3mNM",
        "outputId": "e10004af-5cd7-4fb4-901d-69e4839773f9"
      },
      "source": [
        "#Step 1: Creating the tensors\r\n",
        "x = torch.tensor(5.)\r\n",
        "w = torch.tensor(20.,requires_grad=True)\r\n",
        "b = torch.tensor(30. , requires_grad=True)\r\n",
        "x,w,b"
      ],
      "execution_count": 25,
      "outputs": [
        {
          "output_type": "execute_result",
          "data": {
            "text/plain": [
              "(tensor(5.), tensor(20., requires_grad=True), tensor(30., requires_grad=True))"
            ]
          },
          "metadata": {
            "tags": []
          },
          "execution_count": 25
        }
      ]
    },
    {
      "cell_type": "code",
      "metadata": {
        "colab": {
          "base_uri": "https://localhost:8080/"
        },
        "id": "EVFVIn41559Z",
        "outputId": "947a9c56-0202-4932-f997-da638e7e77b0"
      },
      "source": [
        "#Step 2: Defining the function\r\n",
        "y = w*x +b\r\n",
        "y"
      ],
      "execution_count": 26,
      "outputs": [
        {
          "output_type": "execute_result",
          "data": {
            "text/plain": [
              "tensor(130., grad_fn=<AddBackward0>)"
            ]
          },
          "metadata": {
            "tags": []
          },
          "execution_count": 26
        }
      ]
    },
    {
      "cell_type": "code",
      "metadata": {
        "id": "sYawU6TN9HZq"
      },
      "source": [
        "#Step 3: Gradient Computation\r\n",
        "y.backward()"
      ],
      "execution_count": 27,
      "outputs": []
    },
    {
      "cell_type": "code",
      "metadata": {
        "colab": {
          "base_uri": "https://localhost:8080/"
        },
        "id": "D4sxiqoc9OWY",
        "outputId": "5e32455e-7b28-45e2-883f-acc290bef784"
      },
      "source": [
        "#Step 4: Getting the gradients\r\n",
        "print(\"dy/dw = {}\".format(w.grad))\r\n",
        "print(\"dy/db = {}\".format(b.grad))\r\n",
        "#As requires_grad for x is False by default, if we try to get dy/dx, we will get None as the outcome\r\n",
        "print(\"dy/dx = {}\".format(x.grad))"
      ],
      "execution_count": 28,
      "outputs": [
        {
          "output_type": "stream",
          "text": [
            "dy/dw = 5.0\n",
            "dy/db = 1.0\n",
            "dy/dx = None\n"
          ],
          "name": "stdout"
        }
      ]
    },
    {
      "cell_type": "markdown",
      "metadata": {
        "id": "l0-yeObGGA1J"
      },
      "source": [
        "# Interoperability with numpy"
      ]
    },
    {
      "cell_type": "code",
      "metadata": {
        "id": "buDab_219qe-"
      },
      "source": [
        "import numpy as np"
      ],
      "execution_count": 29,
      "outputs": []
    },
    {
      "cell_type": "code",
      "metadata": {
        "colab": {
          "base_uri": "https://localhost:8080/"
        },
        "id": "2hlfBCGmGGn3",
        "outputId": "96f0fc62-3d82-464d-e663-5e77332afd0a"
      },
      "source": [
        "x = np.array([[1.,2.,3.],[4.,5.,6.]])\r\n",
        "x,x.shape"
      ],
      "execution_count": 30,
      "outputs": [
        {
          "output_type": "execute_result",
          "data": {
            "text/plain": [
              "(array([[1., 2., 3.],\n",
              "        [4., 5., 6.]]), (2, 3))"
            ]
          },
          "metadata": {
            "tags": []
          },
          "execution_count": 30
        }
      ]
    },
    {
      "cell_type": "code",
      "metadata": {
        "colab": {
          "base_uri": "https://localhost:8080/"
        },
        "id": "GYw2i287GR07",
        "outputId": "4fab92db-8e51-4e12-ae5d-9bb078b2f3f0"
      },
      "source": [
        "#Converting a numpy array to a torch tensor\r\n",
        "t1np = torch.from_numpy(x)\r\n",
        "t1np "
      ],
      "execution_count": 32,
      "outputs": [
        {
          "output_type": "execute_result",
          "data": {
            "text/plain": [
              "tensor([[1., 2., 3.],\n",
              "        [4., 5., 6.]], dtype=torch.float64)"
            ]
          },
          "metadata": {
            "tags": []
          },
          "execution_count": 32
        }
      ]
    },
    {
      "cell_type": "code",
      "metadata": {
        "colab": {
          "base_uri": "https://localhost:8080/"
        },
        "id": "F0Y_VEznGczP",
        "outputId": "5860145c-6355-497c-a01a-fc7d513df427"
      },
      "source": [
        "#Converting a torch tensor to a numpy array\r\n",
        "npa = t1np.numpy()\r\n",
        "npa"
      ],
      "execution_count": 34,
      "outputs": [
        {
          "output_type": "execute_result",
          "data": {
            "text/plain": [
              "array([[1., 2., 3.],\n",
              "       [4., 5., 6.]])"
            ]
          },
          "metadata": {
            "tags": []
          },
          "execution_count": 34
        }
      ]
    },
    {
      "cell_type": "code",
      "metadata": {
        "id": "iHkfg5LMGpw0"
      },
      "source": [
        ""
      ],
      "execution_count": null,
      "outputs": []
    }
  ]
}